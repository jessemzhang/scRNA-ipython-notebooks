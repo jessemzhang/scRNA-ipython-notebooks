{
 "metadata": {
  "name": ""
 },
 "nbformat": 3,
 "nbformat_minor": 0,
 "worksheets": [
  {
   "cells": [
    {
     "cell_type": "code",
     "collapsed": false,
     "input": [
      "# Generate correlation matrix\n",
      "import numpy as np\n",
      "\n",
      "X = np.loadtxt('/data/jessez/Gene_count_datasets/Datasets/batch_all/X');\n",
      "gene_names = np.loadtxt('/data/jessez/Gene_count_datasets/Genes/genes.txt',dtype=str)\n",
      "R = np.corrcoef(np.transpose(X))"
     ],
     "language": "python",
     "metadata": {},
     "outputs": [],
     "prompt_number": "*"
    },
    {
     "cell_type": "code",
     "collapsed": false,
     "input": [
      "# Look at the max correlation for each gene\n",
      "max_corr = np.absolute(R-np.identity(M)).max(0)"
     ],
     "language": "python",
     "metadata": {},
     "outputs": [],
     "prompt_number": "*"
    },
    {
     "cell_type": "code",
     "collapsed": false,
     "input": [
      "%matplotlib inline\n",
      "import matplotlib.pyplot as plt\n",
      "\n",
      "plt.figure(figsize=(15,15))\n",
      "plt.plot(range(0,M),np.sort(max_corr))\n",
      "plt.show()"
     ],
     "language": "python",
     "metadata": {},
     "outputs": [],
     "prompt_number": "*"
    },
    {
     "cell_type": "code",
     "collapsed": false,
     "input": [
      "# Only look at genes that have a max correlation of at least a certain threshold\n",
      "thresh = 0.75\n",
      "good_genes_ind = np.where(max_corr > thresh)\n",
      "good_gene_names = gene_names[good_genes_ind]\n",
      "X_good_genes = np.squeeze(X[:,good_genes_ind])\n",
      "np.shape(X_good_genes)"
     ],
     "language": "python",
     "metadata": {},
     "outputs": [],
     "prompt_number": "*"
    },
    {
     "cell_type": "code",
     "collapsed": false,
     "input": [
      "# Functions for performing PCA, t-SNE, and kmeans\n",
      "\n",
      "import matplotlib.pyplot as plt\n",
      "from sklearn.decomposition import PCA\n",
      "from sklearn import manifold\n",
      "from sklearn import cluster\n",
      "\n",
      "# obtain PCs and plot by batch number\n",
      "def jz_PCA(X):\n",
      "    X_zm = X\n",
      "    X_bar = np.mean(X,axis=0)\n",
      "    U, s, V = np.linalg.svd(np.dot(X_zm,np.transpose(X_zm)), full_matrices=True)\n",
      "    return U\n",
      "\n",
      "# obtain two major directions from t-SNE and plot by batch number\n",
      "def jz_tSNE(X):\n",
      "    tsne = manifold.TSNE(n_components=2, random_state=0);\n",
      "    X_tsne = tsne.fit_transform(X);\n",
      "    return X_tsne\n",
      "\n",
      "# obtain labels via kmeans\n",
      "def jz_kmeans(X):\n",
      "    k_means = cluster.KMeans(n_clusters=2)\n",
      "    k_means.fit(X)\n",
      "    labels = k_means.labels_\n",
      "    return labels"
     ],
     "language": "python",
     "metadata": {},
     "outputs": [],
     "prompt_number": "*"
    },
    {
     "cell_type": "code",
     "collapsed": false,
     "input": [
      "# PCA on original matrix\n",
      "%matplotlib inline\n",
      "batch_num = np.loadtxt('/data/jessez/Gene_count_datasets/Batch_nums/batch_num_all.txt')\n",
      "X_pca = jz_PCA(X)\n",
      "\n",
      "plt.figure(figsize=(15,15))\n",
      "\n",
      "# plot and color points using batch numbers\n",
      "batches = np.unique(batch_num)\n",
      "plt.subplot(2,1,1)\n",
      "for batch in batches:\n",
      "    plt.scatter(X_pca[batch_num == batch,0], X_pca[batch_num == batch, 1],c=np.random.rand(3))\n",
      "    \n",
      "# plot and color using kmeans labels\n",
      "pca_labels = jz_kmeans(X_pca)\n",
      "plt.subplot(2,1,2)\n",
      "plt.scatter(X_pca[pca_labels == 0,0],X_pca[pca_labels == 0,1],c=np.random.rand(3))\n",
      "plt.scatter(X_pca[pca_labels == 1,0],X_pca[pca_labels == 1,1],c=np.random.rand(3))\n",
      "\n",
      "plt.show()"
     ],
     "language": "python",
     "metadata": {},
     "outputs": [],
     "prompt_number": "*"
    },
    {
     "cell_type": "code",
     "collapsed": false,
     "input": [
      "# PCA on matrix with only \"good genes\" \n",
      "%matplotlib inline\n",
      "batch_num = np.loadtxt('/data/jessez/Gene_count_datasets/Batch_nums/batch_num_all.txt')\n",
      "X_good_genes_pca = jz_PCA(X_good_genes)\n",
      "\n",
      "plt.figure(figsize=(15,15))\n",
      "\n",
      "# plot and color points using batch numbers\n",
      "batches = np.unique(batch_num)\n",
      "plt.subplot(2,1,1)\n",
      "for batch in batches:\n",
      "    plt.scatter(X_good_genes_pca[batch_num == batch,0], X_good_genes_pca[batch_num == batch, 1],c=np.random.rand(3))\n",
      "    \n",
      "# plot and color using kmeans labels\n",
      "pca_labels = jz_kmeans(X_good_genes_pca)\n",
      "plt.subplot(2,1,2)\n",
      "plt.scatter(X_good_genes_pca[pca_labels == 0,0],X_good_genes_pca[pca_labels == 0,1],c=np.random.rand(3))\n",
      "plt.scatter(X_good_genes_pca[pca_labels == 1,0],X_good_genes_pca[pca_labels == 1,1],c=np.random.rand(3))\n",
      "\n",
      "plt.show()"
     ],
     "language": "python",
     "metadata": {},
     "outputs": []
    }
   ],
   "metadata": {}
  }
 ]
}