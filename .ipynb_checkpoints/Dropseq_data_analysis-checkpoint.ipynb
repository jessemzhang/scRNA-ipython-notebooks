{
 "metadata": {
  "name": ""
 },
 "nbformat": 3,
 "nbformat_minor": 0,
 "worksheets": [
  {
   "cells": [
    {
     "cell_type": "code",
     "collapsed": false,
     "input": [
      "import numpy as np\n",
      "import sys\n",
      "from numpy import genfromtxt\n",
      "\n",
      "filename = '/data/jessez/dropseq_retina_dataset/GSM1626797_P14Retina_5.digital_expression.txt'\n",
      "my_data = genfromtxt(filename, delimiter='\\t')"
     ],
     "language": "python",
     "metadata": {},
     "outputs": [],
     "prompt_number": 7
    },
    {
     "cell_type": "code",
     "collapsed": false,
     "input": [
      "M = np.shape(my_data)[0]-1 # number of genes\n",
      "N = np.shape(my_data)[1]-1 # number of single cells\n",
      "\n",
      "X = np.delete(np.delete(my_data,0,0),0,1)"
     ],
     "language": "python",
     "metadata": {},
     "outputs": [],
     "prompt_number": 38
    },
    {
     "cell_type": "code",
     "collapsed": false,
     "input": [
      "# Functions for performing PCA, t-SNE, and kmeans\n",
      "\n",
      "import matplotlib.pyplot as plt\n",
      "from sklearn.decomposition import PCA\n",
      "from sklearn import manifold\n",
      "from sklearn import cluster\n",
      "\n",
      "# obtain PCs and plot by batch number\n",
      "def jz_PCA(X):\n",
      "    X_zm = X\n",
      "    X_bar = np.mean(X,axis=0)\n",
      "    U, s, V = np.linalg.svd(np.dot(X_zm,np.transpose(X_zm)), full_matrices=True)\n",
      "    return U\n",
      "\n",
      "# obtain two major directions from t-SNE and plot by batch number\n",
      "def jz_tSNE(X):\n",
      "    tsne = manifold.TSNE(n_components=2, random_state=0);\n",
      "    X_tsne = tsne.fit_transform(X);\n",
      "    return X_tsne\n",
      "\n",
      "# obtain labels via kmeans\n",
      "def jz_kmeans(X,k):\n",
      "    k_means = cluster.KMeans(n_clusters=k)\n",
      "    k_means.fit(X)\n",
      "    labels = k_means.labels_\n",
      "    return labels"
     ],
     "language": "python",
     "metadata": {},
     "outputs": [],
     "prompt_number": 47
    },
    {
     "cell_type": "code",
     "collapsed": false,
     "input": [
      "%matplotlib inline\n",
      "\n",
      "U = jz_PCA(X)\n",
      "\n",
      "plt.figure(figsize=(15,15))\n",
      "plt.scatter(U[:,0],U[:,1])\n",
      "plt.show()"
     ],
     "language": "python",
     "metadata": {},
     "outputs": [],
     "prompt_number": "*"
    }
   ],
   "metadata": {}
  }
 ]
}