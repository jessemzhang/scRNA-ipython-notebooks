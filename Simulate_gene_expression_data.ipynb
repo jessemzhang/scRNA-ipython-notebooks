{
 "cells": [
  {
   "cell_type": "markdown",
   "metadata": {},
   "source": [
    "Simulating a gene expression matrix."
   ]
  },
  {
   "cell_type": "code",
   "execution_count": 2,
   "metadata": {
    "collapsed": false
   },
   "outputs": [],
   "source": [
    "import numpy as np\n",
    "\n",
    "genes = np.loadtxt('/data/jessez/Correct_Gene_Counts_No_Controls/genes.txt',dtype='str') # load genes\n",
    "\n",
    "np.random.seed(42)\n",
    "\n",
    "M = 326               # number of cells\n",
    "N = np.size(genes)    # number of genes\n",
    "d1_genes = ['Isl1','Drd1','Sfxn1','Nrxn1']\n",
    "d2_genes = ['Drd2','Penk','Sp9','Gpr52','Gpr88']\n",
    "n_d1_cells = 150\n",
    "n_d2_cells = M-n_d1_cells\n",
    "\n",
    "# Randomly choose a bunch of Poisson parameters (uniformly?)\n",
    "poiss_lambdas = np.random.uniform(0.1,20,N)\n",
    "\n",
    "# Randomly choose a bunch of proportions of D1 Poisson to D2 Poisson parameters\n",
    "poiss_proportion = np.random.uniform(0,1,N)\n",
    "\n",
    "# # Randomly choose 9 genes. 4 of these will be D1, the other 5 will be D2\n",
    "# d1d2_genes = np.sort(np.random.choice(range(N),n_d1_genes+n_d2_genes,replace=False))\n",
    "# d1_genes = np.sort(np.random.choice(d1d2_genes,n_d1_genes,replace=False))\n",
    "# d2_genes = np.sort(np.setdiff1d(d1d2_genes,d1_genes))\n",
    "\n",
    "# Randomly choose half the cells to be D1 (remaining ones will be D2)\n",
    "d1_cells = np.sort(np.random.choice(range(M),n_d1_cells,replace=False))\n",
    "d2_cells = np.sort(np.setdiff1d(range(M),d1_cells))\n",
    "\n",
    "# Randomly generate an MxN expression matrix\n",
    "X = np.zeros([M,N])\n",
    "for i in range(M):\n",
    "    for j in range(N):\n",
    "        # The d2 genes need to have smaller Poisson lambda in D1 cells, and vice versa\n",
    "        if (i in d1_cells and genes[j] in d1_genes) or (i in d2_cells and genes[j] in d2_genes):\n",
    "            X[i,j] = np.random.poisson(poiss_lambdas[j])/poiss_proportion[j]\n",
    "        else:\n",
    "            X[i,j] = np.random.poisson(poiss_lambdas[j])"
   ]
  },
  {
   "cell_type": "code",
   "execution_count": 5,
   "metadata": {
    "collapsed": false
   },
   "outputs": [],
   "source": [
    "np.savetxt('/data/jessez/Correct_Gene_Counts_No_Controls/read_counts_rand.txt', X, fmt='%d', delimiter='\\t')"
   ]
  },
  {
   "cell_type": "code",
   "execution_count": 2,
   "metadata": {
    "collapsed": false
   },
   "outputs": [],
   "source": [
    "# Look at correlation matrix of X\n",
    "R = np.corrcoef(np.transpose(X))"
   ]
  },
  {
   "cell_type": "code",
   "execution_count": 27,
   "metadata": {
    "collapsed": false
   },
   "outputs": [
    {
     "name": "stdout",
     "output_type": "stream",
     "text": [
      "2251:\n",
      "2251 and 3715 has a correlation of 0.330229392073.\n",
      "2251 and 5842 has a correlation of 0.139310448475.\n",
      "2251 and 7541 has a correlation of -0.0337058139416.\n",
      "2251 and 1742 has a correlation of -0.363653489208.\n",
      "2251 and 2632 has a correlation of -0.146815977941.\n",
      "2251 and 4147 has a correlation of -0.361996247846.\n",
      "2251 and 5471 has a correlation of -0.136978198864.\n",
      "2251 and 9447 has a correlation of -0.271109133651.\n",
      " \n",
      "3715:\n",
      "3715 and 2251 has a correlation of 0.330229392073.\n",
      "3715 and 5842 has a correlation of 0.344535340524.\n",
      "3715 and 7541 has a correlation of 0.133798079409.\n",
      "3715 and 1742 has a correlation of -0.68796401238.\n",
      "3715 and 2632 has a correlation of -0.206124339371.\n",
      "3715 and 4147 has a correlation of -0.649452385429.\n",
      "3715 and 5471 has a correlation of -0.305055679844.\n",
      "3715 and 9447 has a correlation of -0.645737530458.\n",
      " \n",
      "5842:\n",
      "5842 and 2251 has a correlation of 0.139310448475.\n",
      "5842 and 3715 has a correlation of 0.344535340524.\n",
      "5842 and 7541 has a correlation of 0.0736991822799.\n",
      "5842 and 1742 has a correlation of -0.420514159568.\n",
      "5842 and 2632 has a correlation of -0.142146384519.\n",
      "5842 and 4147 has a correlation of -0.394250356161.\n",
      "5842 and 5471 has a correlation of -0.1205429934.\n",
      "5842 and 9447 has a correlation of -0.358955680345.\n",
      " \n",
      "7541:\n",
      "7541 and 2251 has a correlation of -0.0337058139416.\n",
      "7541 and 3715 has a correlation of 0.133798079409.\n",
      "7541 and 5842 has a correlation of 0.0736991822799.\n",
      "7541 and 1742 has a correlation of -0.190830669859.\n",
      "7541 and 2632 has a correlation of -0.0641190922472.\n",
      "7541 and 4147 has a correlation of -0.141250134121.\n",
      "7541 and 5471 has a correlation of -0.060774844307.\n",
      "7541 and 9447 has a correlation of -0.10900601829.\n",
      " \n",
      "1742:\n",
      "1742 and 2251 has a correlation of -0.363653489208.\n",
      "1742 and 3715 has a correlation of -0.68796401238.\n",
      "1742 and 5842 has a correlation of -0.420514159568.\n",
      "1742 and 7541 has a correlation of -0.190830669859.\n",
      "1742 and 2632 has a correlation of 0.246690875834.\n",
      "1742 and 4147 has a correlation of 0.704773487287.\n",
      "1742 and 5471 has a correlation of 0.342994733499.\n",
      "1742 and 9447 has a correlation of 0.654216075893.\n",
      " \n",
      "2632:\n",
      "2632 and 2251 has a correlation of -0.146815977941.\n",
      "2632 and 3715 has a correlation of -0.206124339371.\n",
      "2632 and 5842 has a correlation of -0.142146384519.\n",
      "2632 and 7541 has a correlation of -0.0641190922472.\n",
      "2632 and 1742 has a correlation of 0.246690875834.\n",
      "2632 and 4147 has a correlation of 0.215299652882.\n",
      "2632 and 5471 has a correlation of 0.22201887898.\n",
      "2632 and 9447 has a correlation of 0.113577870803.\n",
      " \n",
      "4147:\n",
      "4147 and 2251 has a correlation of -0.361996247846.\n",
      "4147 and 3715 has a correlation of -0.649452385429.\n",
      "4147 and 5842 has a correlation of -0.394250356161.\n",
      "4147 and 7541 has a correlation of -0.141250134121.\n",
      "4147 and 1742 has a correlation of 0.704773487287.\n",
      "4147 and 2632 has a correlation of 0.215299652882.\n",
      "4147 and 5471 has a correlation of 0.378420377441.\n",
      "4147 and 9447 has a correlation of 0.641196836839.\n",
      " \n",
      "5471:\n",
      "5471 and 2251 has a correlation of -0.136978198864.\n",
      "5471 and 3715 has a correlation of -0.305055679844.\n",
      "5471 and 5842 has a correlation of -0.1205429934.\n",
      "5471 and 7541 has a correlation of -0.060774844307.\n",
      "5471 and 1742 has a correlation of 0.342994733499.\n",
      "5471 and 2632 has a correlation of 0.22201887898.\n",
      "5471 and 4147 has a correlation of 0.378420377441.\n",
      "5471 and 9447 has a correlation of 0.3430325772.\n",
      " \n",
      "9447:\n",
      "9447 and 2251 has a correlation of -0.271109133651.\n",
      "9447 and 3715 has a correlation of -0.645737530458.\n",
      "9447 and 5842 has a correlation of -0.358955680345.\n",
      "9447 and 7541 has a correlation of -0.10900601829.\n",
      "9447 and 1742 has a correlation of 0.654216075893.\n",
      "9447 and 2632 has a correlation of 0.113577870803.\n",
      "9447 and 4147 has a correlation of 0.641196836839.\n",
      "9447 and 5471 has a correlation of 0.3430325772.\n",
      " \n"
     ]
    }
   ],
   "source": [
    "# Look at correlations of D1 and D2 genes\n",
    "d1d2_genes_as_str_d1_first = np.array([d1_genes.tolist()+d2_genes.tolist()]).astype(str)[0]\n",
    "for gene1 in d1d2_genes_as_str_d1_first:\n",
    "    print gene1 + ':'\n",
    "    for gene2 in d1d2_genes_as_str_d1_first:\n",
    "        if gene2 != gene1:\n",
    "            print gene1 + ' and ' + gene2 + ' has a correlation of ' + str(R[gene1,gene2]) + '.'\n",
    "    print ' '"
   ]
  },
  {
   "cell_type": "code",
   "execution_count": 35,
   "metadata": {
    "collapsed": false
   },
   "outputs": [
    {
     "ename": "ValueError",
     "evalue": "cannot select an axis to squeeze out which has size greater than one",
     "output_type": "error",
     "traceback": [
      "\u001b[0;31m---------------------------------------------------------------------------\u001b[0m\n\u001b[0;31mValueError\u001b[0m                                Traceback (most recent call last)",
      "\u001b[0;32m<ipython-input-35-b35ef56c5ae2>\u001b[0m in \u001b[0;36m<module>\u001b[0;34m()\u001b[0m\n\u001b[1;32m      8\u001b[0m \u001b[0;34m\u001b[0m\u001b[0m\n\u001b[1;32m      9\u001b[0m \u001b[0;31m# Truncate R\u001b[0m\u001b[0;34m\u001b[0m\u001b[0;34m\u001b[0m\u001b[0m\n\u001b[0;32m---> 10\u001b[0;31m \u001b[0ma\u001b[0m \u001b[0;34m=\u001b[0m \u001b[0mnp\u001b[0m\u001b[0;34m.\u001b[0m\u001b[0msqueeze\u001b[0m\u001b[0;34m(\u001b[0m\u001b[0mR\u001b[0m\u001b[0;34m[\u001b[0m\u001b[0;34m:\u001b[0m\u001b[0;34m,\u001b[0m\u001b[0mind\u001b[0m\u001b[0;34m]\u001b[0m\u001b[0;34m,\u001b[0m\u001b[0maxis\u001b[0m\u001b[0;34m=\u001b[0m\u001b[0;36m1\u001b[0m\u001b[0;34m)\u001b[0m\u001b[0;34m\u001b[0m\u001b[0m\n\u001b[0m\u001b[1;32m     11\u001b[0m \u001b[0mR_test\u001b[0m \u001b[0;34m=\u001b[0m \u001b[0mnp\u001b[0m\u001b[0;34m.\u001b[0m\u001b[0msqueeze\u001b[0m\u001b[0;34m(\u001b[0m\u001b[0ma\u001b[0m\u001b[0;34m[\u001b[0m\u001b[0mind\u001b[0m\u001b[0;34m,\u001b[0m\u001b[0;34m:\u001b[0m\u001b[0;34m]\u001b[0m\u001b[0;34m,\u001b[0m\u001b[0maxis\u001b[0m\u001b[0;34m=\u001b[0m\u001b[0;36m0\u001b[0m\u001b[0;34m)\u001b[0m\u001b[0;34m\u001b[0m\u001b[0m\n\u001b[1;32m     12\u001b[0m \u001b[0;34m\u001b[0m\u001b[0m\n",
      "\u001b[0;32m/usr/lib/python2.7/dist-packages/numpy/core/fromnumeric.pyc\u001b[0m in \u001b[0;36msqueeze\u001b[0;34m(a, axis)\u001b[0m\n\u001b[1;32m   1109\u001b[0m     \u001b[0;32mtry\u001b[0m\u001b[0;34m:\u001b[0m\u001b[0;34m\u001b[0m\u001b[0m\n\u001b[1;32m   1110\u001b[0m         \u001b[0;31m# First try to use the new axis= parameter\u001b[0m\u001b[0;34m\u001b[0m\u001b[0;34m\u001b[0m\u001b[0m\n\u001b[0;32m-> 1111\u001b[0;31m         \u001b[0;32mreturn\u001b[0m \u001b[0msqueeze\u001b[0m\u001b[0;34m(\u001b[0m\u001b[0maxis\u001b[0m\u001b[0;34m=\u001b[0m\u001b[0maxis\u001b[0m\u001b[0;34m)\u001b[0m\u001b[0;34m\u001b[0m\u001b[0m\n\u001b[0m\u001b[1;32m   1112\u001b[0m     \u001b[0;32mexcept\u001b[0m \u001b[0mTypeError\u001b[0m\u001b[0;34m:\u001b[0m\u001b[0;34m\u001b[0m\u001b[0m\n\u001b[1;32m   1113\u001b[0m         \u001b[0;31m# For backwards compatibility\u001b[0m\u001b[0;34m\u001b[0m\u001b[0;34m\u001b[0m\u001b[0m\n",
      "\u001b[0;31mValueError\u001b[0m: cannot select an axis to squeeze out which has size greater than one"
     ]
    }
   ],
   "source": [
    "%matplotlib inline\n",
    "import matplotlib.pyplot as plt\n",
    "\n",
    "# How well do we do with just the d1d2 genes?\n",
    "test_names = d1d2_genes_as_str_d1_first\n",
    "\n",
    "ind = d1d2_genes_as_str_d1_first.astype(int)\n",
    "\n",
    "# Truncate R\n",
    "a = np.squeeze(R[:,ind],axis=1)\n",
    "R_test = np.squeeze(a[ind,:],axis=0)\n",
    "\n",
    "print np.shape(R_test)\n",
    "\n",
    "# Biclustering on test data\n",
    "\n",
    "from sklearn.cluster.bicluster import SpectralCoclustering\n",
    "model = SpectralCoclustering(n_clusters=2, random_state=0)\n",
    "model.fit(R_test)\n",
    "\n",
    "fit_data = R_test[np.argsort(model.row_labels_)]\n",
    "fit_data = fit_data[:, np.argsort(model.column_labels_)]\n",
    "\n",
    "plt.matshow(fit_data, cmap=plt.cm.Blues)\n",
    "plt.title(\"After biclustering; rearranged to show biclusters\")\n",
    "\n",
    "plt.show()"
   ]
  },
  {
   "cell_type": "code",
   "execution_count": 42,
   "metadata": {
    "collapsed": false
   },
   "outputs": [
    {
     "data": {
      "text/plain": [
       "array([2251, 3715, 5842, 7541, 1742, 2632, 4147, 5471, 9447])"
      ]
     },
     "execution_count": 42,
     "metadata": {},
     "output_type": "execute_result"
    }
   ],
   "source": [
    "np.array(range(N))[ind]"
   ]
  }
 ],
 "metadata": {
  "kernelspec": {
   "display_name": "Python 2",
   "language": "python",
   "name": "python2"
  },
  "language_info": {
   "codemirror_mode": {
    "name": "ipython",
    "version": 2
   },
   "file_extension": ".py",
   "mimetype": "text/x-python",
   "name": "python",
   "nbconvert_exporter": "python",
   "pygments_lexer": "ipython2",
   "version": "2.7.6"
  }
 },
 "nbformat": 4,
 "nbformat_minor": 0
}
